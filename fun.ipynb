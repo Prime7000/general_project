{
 "cells": [
  {
   "cell_type": "code",
   "execution_count": 29,
   "metadata": {},
   "outputs": [],
   "source": [
    "import random\n",
    "import matplotlib.pyplot as plt"
   ]
  },
  {
   "cell_type": "code",
   "execution_count": 52,
   "metadata": {},
   "outputs": [
    {
     "name": "stdout",
     "output_type": "stream",
     "text": [
      "10\n",
      "Number of heads: 10 and tails: 1\n"
     ]
    },
    {
     "data": {
      "image/png": "[encoded data removed]",
      "text/plain": [
       "<Figure size 640x480 with 1 Axes>"
      ]
     },
     "metadata": {},
     "output_type": "display_data"
    }
   ],
   "source": [
    "stored_outcomes = ['head','tail']\n",
    "\n",
    "for i in range(1,10):\n",
    "    outcome = random.sample(stored_outcomes,1)\n",
    "    stored_outcomes.append(outcome[0])\n",
    "\n",
    "print(stored_outcomes.count('head'))\n",
    "print(f'Number of heads: {stored_outcomes.count(\"head\")} and tails: {stored_outcomes.count(\"tail\")}')\n",
    "\n",
    "head = stored_outcomes.count('head')\n",
    "tail = stored_outcomes.count('tail')\n",
    "categories = ['heads','tails']\n",
    "plt.bar(categories, [head,tail], color=['green','red'])\n",
    "plt.show()"
   ]
  }
 ],
 "metadata": {
  "kernelspec": {
   "display_name": "Python 3",
   "language": "python",
   "name": "python3"
  },
  "language_info": {
   "codemirror_mode": {
    "name": "ipython",
    "version": 3
   },
   "file_extension": ".py",
   "mimetype": "text/x-python",
   "name": "python",
   "nbconvert_exporter": "python",
   "pygments_lexer": "ipython3",
   "version": "3.12.1"
  }
 },
 "nbformat": 4,
 "nbformat_minor": 2
}
